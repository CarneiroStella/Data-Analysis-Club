{
 "cells": [
  {
   "cell_type": "code",
   "execution_count": 5,
   "metadata": {},
   "outputs": [
    {
     "data": {
      "text/plain": [
       "True"
      ]
     },
     "execution_count": 5,
     "metadata": {},
     "output_type": "execute_result"
    }
   ],
   "source": [
    "# Load required packagesImpor\n",
    "\n",
    "# Jupyter notebook settings\n",
    "from IPython.core.interactiveshell import InteractiveShell\n",
    "InteractiveShell.ast_node_interactivity = \"all\" # Show all outputs, not only the last one\n",
    "\n",
    "# Remove warnings\n",
    "import warnings\n",
    "warnings.filterwarnings(\"ignore\")\n",
    "\n",
    "# Set the working directory\n",
    "#import os\n",
    "#os.chdir('/Users/stellacarneiro/Library/CloudStorage/GoogleDrive-stella.carneiro@loadsmart.com/My Drive/Projects/Data Analysis Club')\n",
    "\n",
    "# Load environment variables\n",
    "from dotenv import load_dotenv\n",
    "load_dotenv()\n",
    "\n",
    "# Data manipulation in pandas\n",
    "import pandas as pd\n",
    "pd.set_option('display.max_rows', 5000) # Set the maximum number of rows and columns to display\n",
    "pd.set_option(\"display.float_format\", lambda x: \"%.2f\" % x) # Number format settings\n",
    "\n"
   ]
  },
  {
   "cell_type": "code",
   "execution_count": null,
   "metadata": {},
   "outputs": [],
   "source": [
    "# Check the api on your navigator:\n",
    "# https://api.eia.gov/v2/steo/data/?frequency=monthly&data[0]=value&sort[0][column]=period&sort[0][direction]=desc&offset=0&length=5000&api_key=8Uj5YLwHIXwYH0WcIquFhifQRLxfmcZrPredQznw\n",
    "# you will see they require an api key, so register at https://www.eia.gov/opendata/documentation.php\n"
   ]
  },
  {
   "cell_type": "code",
   "execution_count": 59,
   "metadata": {},
   "outputs": [],
   "source": [
    "# Set an api key\n",
    "# EIA_API_KEY = \"[API_CODE_HERE]\""
   ]
  },
  {
   "cell_type": "code",
   "execution_count": 60,
   "metadata": {},
   "outputs": [],
   "source": [
    "# install requests package\n",
    "# pip install requests"
   ]
  },
  {
   "cell_type": "code",
   "execution_count": 6,
   "metadata": {},
   "outputs": [
    {
     "data": {
      "text/plain": [
       "'https://api.eia.gov/v2/steo/data/?frequency=monthly&data[0]=value&facets[seriesId][]=DSRTUUS&start=2019-01&sort[0][column]=period&sort[0][direction]=asc&offset=0&length=5000&api_key=8Uj5YLwHIXwYH0WcIquFhifQRLxfmcZrPredQznw'"
      ]
     },
     "execution_count": 6,
     "metadata": {},
     "output_type": "execute_result"
    },
    {
     "name": "stdout",
     "output_type": "stream",
     "text": [
      "<Response [200]>\n",
      "200\n"
     ]
    },
    {
     "data": {
      "text/plain": [
       "{'Date': 'Fri, 15 Mar 2024 19:18:20 GMT', 'Content-Type': 'application/json', 'Content-Length': '1196', 'Connection': 'keep-alive', 'Access-Control-Allow-Headers': 'Origin, X-Requested-With, Content-Type, Accept, Authorization, X-Params', 'Access-Control-Allow-Methods': 'GET,POST', 'Access-Control-Allow-Origin': '*', 'Age': '0', 'Cache-Control': 'max-age=0, no-cache, no-store', 'Content-Encoding': 'gzip', 'Expires': 'Fri, 15 Mar 2024 19:18:20 GMT', 'Pragma': 'no-cache', 'Strict-Transport-Security': 'max-age=63072000; includeSubdomains;, max-age=31536000; preload', 'Vary': 'Accept-Encoding, Accept-Encoding', 'Via': 'https/1.1 api-umbrella (ApacheTrafficServer [cMsSf ])', 'X-Api-Umbrella-Request-Id': 'ce8e6ghjp9hc1o9esat0', 'X-Cache': 'MISS', 'X-Vcap-Request-Id': '297b717e-2e03-4735-4d78-e772a975e419', 'X-Frame-Options': 'SAMEORIGIN', 'X-Content-Type-Options': 'nosniff', 'X-XSS-Protection': '1; mode=block'}"
      ]
     },
     "execution_count": 6,
     "metadata": {},
     "output_type": "execute_result"
    }
   ],
   "source": [
    "import requests\n",
    "import os\n",
    "\n",
    "# API endpoint URL - the less organized way\n",
    "# https://www.eia.gov/opendata/browser/steo\n",
    "# response = requests.get(url) \n",
    "\n",
    "url = \"https://api.eia.gov/v2/steo/data/?frequency=monthly&data[0]=value&facets[seriesId][]=DSRTUUS&start=2019-01&sort[0][column]=period&sort[0][direction]=asc&offset=0&length=5000\"\n",
    "url = url + '&api_key=' + os.environ.get(\"EIA_API_KEY\")\n",
    "url\n",
    "\n",
    "# Make a GET request\n",
    "response = requests.get(url)\n",
    "\n",
    "print(response) # <Response [200]> means it was successful, <Response [400]> means it was not\n",
    "print(response.status_code) \n",
    "\n",
    "# Check the data format, if xml or json\n",
    "response.headers\n",
    "\n",
    "# If json\n",
    "# Download data\n",
    "data = response.json()"
   ]
  },
  {
   "cell_type": "code",
   "execution_count": 7,
   "metadata": {},
   "outputs": [
    {
     "data": {
      "text/html": [
       "<div>\n",
       "<style scoped>\n",
       "    .dataframe tbody tr th:only-of-type {\n",
       "        vertical-align: middle;\n",
       "    }\n",
       "\n",
       "    .dataframe tbody tr th {\n",
       "        vertical-align: top;\n",
       "    }\n",
       "\n",
       "    .dataframe thead th {\n",
       "        text-align: right;\n",
       "    }\n",
       "</style>\n",
       "<table border=\"1\" class=\"dataframe\">\n",
       "  <thead>\n",
       "    <tr style=\"text-align: right;\">\n",
       "      <th></th>\n",
       "      <th>period</th>\n",
       "      <th>seriesId</th>\n",
       "      <th>seriesDescription</th>\n",
       "      <th>value</th>\n",
       "      <th>unit</th>\n",
       "    </tr>\n",
       "  </thead>\n",
       "  <tbody>\n",
       "    <tr>\n",
       "      <th>0</th>\n",
       "      <td>2019-01</td>\n",
       "      <td>DSRTUUS</td>\n",
       "      <td>Diesel Fuel Retail Price Including Taxes, U.S....</td>\n",
       "      <td>297.975</td>\n",
       "      <td>cents per gallon</td>\n",
       "    </tr>\n",
       "    <tr>\n",
       "      <th>1</th>\n",
       "      <td>2019-02</td>\n",
       "      <td>DSRTUUS</td>\n",
       "      <td>Diesel Fuel Retail Price Including Taxes, U.S....</td>\n",
       "      <td>299.65</td>\n",
       "      <td>cents per gallon</td>\n",
       "    </tr>\n",
       "    <tr>\n",
       "      <th>2</th>\n",
       "      <td>2019-03</td>\n",
       "      <td>DSRTUUS</td>\n",
       "      <td>Diesel Fuel Retail Price Including Taxes, U.S....</td>\n",
       "      <td>307.625</td>\n",
       "      <td>cents per gallon</td>\n",
       "    </tr>\n",
       "    <tr>\n",
       "      <th>3</th>\n",
       "      <td>2019-04</td>\n",
       "      <td>DSRTUUS</td>\n",
       "      <td>Diesel Fuel Retail Price Including Taxes, U.S....</td>\n",
       "      <td>312.1</td>\n",
       "      <td>cents per gallon</td>\n",
       "    </tr>\n",
       "    <tr>\n",
       "      <th>4</th>\n",
       "      <td>2019-05</td>\n",
       "      <td>DSRTUUS</td>\n",
       "      <td>Diesel Fuel Retail Price Including Taxes, U.S....</td>\n",
       "      <td>316.125</td>\n",
       "      <td>cents per gallon</td>\n",
       "    </tr>\n",
       "  </tbody>\n",
       "</table>\n",
       "</div>"
      ],
      "text/plain": [
       "    period seriesId                                  seriesDescription  \\\n",
       "0  2019-01  DSRTUUS  Diesel Fuel Retail Price Including Taxes, U.S....   \n",
       "1  2019-02  DSRTUUS  Diesel Fuel Retail Price Including Taxes, U.S....   \n",
       "2  2019-03  DSRTUUS  Diesel Fuel Retail Price Including Taxes, U.S....   \n",
       "3  2019-04  DSRTUUS  Diesel Fuel Retail Price Including Taxes, U.S....   \n",
       "4  2019-05  DSRTUUS  Diesel Fuel Retail Price Including Taxes, U.S....   \n",
       "\n",
       "     value              unit  \n",
       "0  297.975  cents per gallon  \n",
       "1   299.65  cents per gallon  \n",
       "2  307.625  cents per gallon  \n",
       "3    312.1  cents per gallon  \n",
       "4  316.125  cents per gallon  "
      ]
     },
     "execution_count": 7,
     "metadata": {},
     "output_type": "execute_result"
    }
   ],
   "source": [
    "# pandas \n",
    "df =  pd.DataFrame(data['response']['data'])\n",
    "df.head()"
   ]
  },
  {
   "cell_type": "code",
   "execution_count": 10,
   "metadata": {},
   "outputs": [
    {
     "data": {
      "text/html": [
       "<div>\n",
       "<style scoped>\n",
       "    .dataframe tbody tr th:only-of-type {\n",
       "        vertical-align: middle;\n",
       "    }\n",
       "\n",
       "    .dataframe tbody tr th {\n",
       "        vertical-align: top;\n",
       "    }\n",
       "\n",
       "    .dataframe thead th {\n",
       "        text-align: right;\n",
       "    }\n",
       "</style>\n",
       "<table border=\"1\" class=\"dataframe\">\n",
       "  <thead>\n",
       "    <tr style=\"text-align: right;\">\n",
       "      <th></th>\n",
       "      <th>period</th>\n",
       "      <th>seriesId</th>\n",
       "      <th>seriesDescription</th>\n",
       "      <th>value</th>\n",
       "      <th>unit</th>\n",
       "    </tr>\n",
       "  </thead>\n",
       "  <tbody>\n",
       "    <tr>\n",
       "      <th>0</th>\n",
       "      <td>2019-01</td>\n",
       "      <td>DSRTUUS</td>\n",
       "      <td>Diesel Fuel Retail Price Including Taxes, U.S....</td>\n",
       "      <td>297.975</td>\n",
       "      <td>cents per gallon</td>\n",
       "    </tr>\n",
       "    <tr>\n",
       "      <th>1</th>\n",
       "      <td>2019-02</td>\n",
       "      <td>DSRTUUS</td>\n",
       "      <td>Diesel Fuel Retail Price Including Taxes, U.S....</td>\n",
       "      <td>299.65</td>\n",
       "      <td>cents per gallon</td>\n",
       "    </tr>\n",
       "    <tr>\n",
       "      <th>2</th>\n",
       "      <td>2019-03</td>\n",
       "      <td>DSRTUUS</td>\n",
       "      <td>Diesel Fuel Retail Price Including Taxes, U.S....</td>\n",
       "      <td>307.625</td>\n",
       "      <td>cents per gallon</td>\n",
       "    </tr>\n",
       "    <tr>\n",
       "      <th>3</th>\n",
       "      <td>2019-04</td>\n",
       "      <td>DSRTUUS</td>\n",
       "      <td>Diesel Fuel Retail Price Including Taxes, U.S....</td>\n",
       "      <td>312.1</td>\n",
       "      <td>cents per gallon</td>\n",
       "    </tr>\n",
       "    <tr>\n",
       "      <th>4</th>\n",
       "      <td>2019-05</td>\n",
       "      <td>DSRTUUS</td>\n",
       "      <td>Diesel Fuel Retail Price Including Taxes, U.S....</td>\n",
       "      <td>316.125</td>\n",
       "      <td>cents per gallon</td>\n",
       "    </tr>\n",
       "  </tbody>\n",
       "</table>\n",
       "</div>"
      ],
      "text/plain": [
       "    period seriesId                                  seriesDescription  \\\n",
       "0  2019-01  DSRTUUS  Diesel Fuel Retail Price Including Taxes, U.S....   \n",
       "1  2019-02  DSRTUUS  Diesel Fuel Retail Price Including Taxes, U.S....   \n",
       "2  2019-03  DSRTUUS  Diesel Fuel Retail Price Including Taxes, U.S....   \n",
       "3  2019-04  DSRTUUS  Diesel Fuel Retail Price Including Taxes, U.S....   \n",
       "4  2019-05  DSRTUUS  Diesel Fuel Retail Price Including Taxes, U.S....   \n",
       "\n",
       "     value              unit  \n",
       "0  297.975  cents per gallon  \n",
       "1   299.65  cents per gallon  \n",
       "2  307.625  cents per gallon  \n",
       "3    312.1  cents per gallon  \n",
       "4  316.125  cents per gallon  "
      ]
     },
     "execution_count": 10,
     "metadata": {},
     "output_type": "execute_result"
    }
   ],
   "source": [
    "# You can structure a code, if request is sucessful, you can download the data\n",
    "# Check if the request was successful\n",
    "if response.status_code == 200: \n",
    "    # Parse JSON data\n",
    "    data = response.json()\n",
    "    # convert to dataframe\n",
    "    raw_data = data['response']['data']\n",
    "    df = pd.DataFrame(raw_data)\n",
    "else:\n",
    "    print(f\"Failed to fetch data: {response.status_code}\")\n",
    "\n",
    "df.head()"
   ]
  },
  {
   "cell_type": "code",
   "execution_count": 34,
   "metadata": {},
   "outputs": [],
   "source": [
    "# convert to excel\n",
    "df.to_excel('steo_data.xlsx', index=False)"
   ]
  },
  {
   "cell_type": "code",
   "execution_count": 46,
   "metadata": {},
   "outputs": [
    {
     "data": {
      "text/plain": [
       "<Response [200]>"
      ]
     },
     "execution_count": 46,
     "metadata": {},
     "output_type": "execute_result"
    },
    {
     "name": "stdout",
     "output_type": "stream",
     "text": [
      "https://api.stlouisfed.org/fred/series/observations?api_key=59af226442f05b4b5c606095a06074f0&series_id=GASDESW&observation_start=2020-01-01\n"
     ]
    }
   ],
   "source": [
    "# Another good api is FRED's API because most of US economic data is stored there\n",
    "# https://fred.stlouisfed.org/docs/api/fred/\n",
    "\n",
    "# Set the base URL for the FED API\n",
    "base_url = 'https://api.stlouisfed.org/fred/series/observations'\n",
    "\n",
    "# Set the variables to be requested\n",
    "#vars = pd.DataFrame({'variable':['Real Personal Consumption Expenditures'],\n",
    "#                     'code': ['DPCERL1Q225SBEA']})\n",
    "\n",
    "code = 'GASDESW'\n",
    "desc_code = 'US Diesel Sales Price, Dol/Gal, NSA, Weekly'\n",
    "\n",
    "import requests\n",
    "\n",
    "# Set the parameters for the API request\n",
    "params = {\n",
    "    'api_key': os.environ.get(\"FRED_API_KEY\"),\n",
    "    'series_id': code,\n",
    "    'observation_start': '2020-01-01',\n",
    "   # 'observation_end':'2023-01-01'\n",
    "}\n",
    "\n",
    "# Make the API request\n",
    "\n",
    "response = requests.get(base_url, params=params)\n",
    "response\n",
    "\n",
    "print(response.url)"
   ]
  },
  {
   "cell_type": "code",
   "execution_count": 42,
   "metadata": {},
   "outputs": [
    {
     "data": {
      "text/plain": [
       "'<?xml version=\"1.0\" encoding=\"utf-8\" ?>\\n<observations realtime_start=\"2024-03-15\" realtime_end=\"2024-03-15\" observation_start=\"2020-01-01\" observation_end=\"9999-12-31\" units=\"lin\" output_type=\"1\" file_type=\"xml\" order_by=\"observation_date\" sort_order=\"asc\" count=\"219\" offset=\"0\" limit=\"100000\">\\n  <observation realtime_start=\"2024-03-15\" realtime_end=\"2024-03-15\" date=\"2020-01-06\" value=\"3.079\"/>\\n  <observation realtime_start=\"2024-03-15\" realtime_end=\"2024-03-15\" date=\"2020-01-13\" value=\"3.064\"/>\\n  <observation realtime_start=\"2024-03-15\" realtime_end=\"2024-03-15\" date=\"2020-01-20\" value=\"3.037\"/>\\n  <observation realtime_start=\"2024-03-15\" realtime_end=\"2024-03-15\" date=\"2020-01-27\" value=\"3.01\"/>\\n  <observation realtime_start=\"2024-03-15\" realtime_end=\"2024-03-15\" date=\"2020-02-03\" value=\"2.956\"/>\\n  <observation realtime_start=\"2024-03-15\" realtime_end=\"2024-03-15\" date=\"2020-02-10\" value=\"2.91\"/>\\n  <observation realtime_start=\"2024-03-15\" realtime_end=\"2024-03-15\" date=\"2020-02-17\" value=\"2.89\"/>\\n  <observation realtime_start=\"2024-03-15\" realtime_end=\"2024-03-15\" date=\"2020-02-24\" value=\"2.882\"/>\\n  <observation realtime_start=\"2024-03-15\" realtime_end=\"2024-03-15\" date=\"2020-03-02\" value=\"2.851\"/>\\n  <observation realtime_start=\"2024-03-15\" realtime_end=\"2024-03-15\" date=\"2020-03-09\" value=\"2.814\"/>\\n  <observation realtime_start=\"2024-03-15\" realtime_end=\"2024-03-15\" date=\"2020-03-16\" value=\"2.733\"/>\\n  <observation realtime_start=\"2024-03-15\" realtime_end=\"2024-03-15\" date=\"2020-03-23\" value=\"2.659\"/>\\n  <observation realtime_start=\"2024-03-15\" realtime_end=\"2024-03-15\" date=\"2020-03-30\" value=\"2.586\"/>\\n  <observation realtime_start=\"2024-03-15\" realtime_end=\"2024-03-15\" date=\"2020-04-06\" value=\"2.548\"/>\\n  <observation realtime_start=\"2024-03-15\" realtime_end=\"2024-03-15\" date=\"2020-04-13\" value=\"2.507\"/>\\n  <observation realtime_start=\"2024-03-15\" realtime_end=\"2024-03-15\" date=\"2020-04-20\" value=\"2.48\"/>\\n  <observation realtime_start=\"2024-03-15\" realtime_end=\"2024-03-15\" date=\"2020-04-27\" value=\"2.437\"/>\\n  <observation realtime_start=\"2024-03-15\" realtime_end=\"2024-03-15\" date=\"2020-05-04\" value=\"2.399\"/>\\n  <observation realtime_start=\"2024-03-15\" realtime_end=\"2024-03-15\" date=\"2020-05-11\" value=\"2.394\"/>\\n  <observation realtime_start=\"2024-03-15\" realtime_end=\"2024-03-15\" date=\"2020-05-18\" value=\"2.386\"/>\\n  <observation realtime_start=\"2024-03-15\" realtime_end=\"2024-03-15\" date=\"2020-05-25\" value=\"2.39\"/>\\n  <observation realtime_start=\"2024-03-15\" realtime_end=\"2024-03-15\" date=\"2020-06-01\" value=\"2.386\"/>\\n  <observation realtime_start=\"2024-03-15\" realtime_end=\"2024-03-15\" date=\"2020-06-08\" value=\"2.396\"/>\\n  <observation realtime_start=\"2024-03-15\" realtime_end=\"2024-03-15\" date=\"2020-06-15\" value=\"2.403\"/>\\n  <observation realtime_start=\"2024-03-15\" realtime_end=\"2024-03-15\" date=\"2020-06-22\" value=\"2.425\"/>\\n  <observation realtime_start=\"2024-03-15\" realtime_end=\"2024-03-15\" date=\"2020-06-29\" value=\"2.43\"/>\\n  <observation realtime_start=\"2024-03-15\" realtime_end=\"2024-03-15\" date=\"2020-07-06\" value=\"2.437\"/>\\n  <observation realtime_start=\"2024-03-15\" realtime_end=\"2024-03-15\" date=\"2020-07-13\" value=\"2.438\"/>\\n  <observation realtime_start=\"2024-03-15\" realtime_end=\"2024-03-15\" date=\"2020-07-20\" value=\"2.433\"/>\\n  <observation realtime_start=\"2024-03-15\" realtime_end=\"2024-03-15\" date=\"2020-07-27\" value=\"2.427\"/>\\n  <observation realtime_start=\"2024-03-15\" realtime_end=\"2024-03-15\" date=\"2020-08-03\" value=\"2.424\"/>\\n  <observation realtime_start=\"2024-03-15\" realtime_end=\"2024-03-15\" date=\"2020-08-10\" value=\"2.428\"/>\\n  <observation realtime_start=\"2024-03-15\" realtime_end=\"2024-03-15\" date=\"2020-08-17\" value=\"2.427\"/>\\n  <observation realtime_start=\"2024-03-15\" realtime_end=\"2024-03-15\" date=\"2020-08-24\" value=\"2.426\"/>\\n  <observation realtime_start=\"2024-03-15\" realtime_end=\"2024-03-15\" date=\"2020-08-31\" value=\"2.441\"/>\\n  <observation realtime_start=\"2024-03-15\" realtime_end=\"2024-03-15\" date=\"2020-09-07\" value=\"2.435\"/>\\n  <observation realtime_start=\"2024-03-15\" realtime_end=\"2024-03-15\" date=\"2020-09-14\" value=\"2.422\"/>\\n  <observation realtime_start=\"2024-03-15\" realtime_end=\"2024-03-15\" date=\"2020-09-21\" value=\"2.404\"/>\\n  <observation realtime_start=\"2024-03-15\" realtime_end=\"2024-03-15\" date=\"2020-09-28\" value=\"2.394\"/>\\n  <observation realtime_start=\"2024-03-15\" realtime_end=\"2024-03-15\" date=\"2020-10-05\" value=\"2.387\"/>\\n  <observation realtime_start=\"2024-03-15\" realtime_end=\"2024-03-15\" date=\"2020-10-12\" value=\"2.395\"/>\\n  <observation realtime_start=\"2024-03-15\" realtime_end=\"2024-03-15\" date=\"2020-10-19\" value=\"2.388\"/>\\n  <observation realtime_start=\"2024-03-15\" realtime_end=\"2024-03-15\" date=\"2020-10-26\" value=\"2.385\"/>\\n  <observation realtime_start=\"2024-03-15\" realtime_end=\"2024-03-15\" date=\"2020-11-02\" value=\"2.372\"/>\\n  <observation realtime_start=\"2024-03-15\" realtime_end=\"2024-03-15\" date=\"2020-11-09\" value=\"2.383\"/>\\n  <observation realtime_start=\"2024-03-15\" realtime_end=\"2024-03-15\" date=\"2020-11-16\" value=\"2.441\"/>\\n  <observation realtime_start=\"2024-03-15\" realtime_end=\"2024-03-15\" date=\"2020-11-23\" value=\"2.462\"/>\\n  <observation realtime_start=\"2024-03-15\" realtime_end=\"2024-03-15\" date=\"2020-11-30\" value=\"2.502\"/>\\n  <observation realtime_start=\"2024-03-15\" realtime_end=\"2024-03-15\" date=\"2020-12-07\" value=\"2.526\"/>\\n  <observation realtime_start=\"2024-03-15\" realtime_end=\"2024-03-15\" date=\"2020-12-14\" value=\"2.559\"/>\\n  <observation realtime_start=\"2024-03-15\" realtime_end=\"2024-03-15\" date=\"2020-12-21\" value=\"2.619\"/>\\n  <observation realtime_start=\"2024-03-15\" realtime_end=\"2024-03-15\" date=\"2020-12-28\" value=\"2.635\"/>\\n  <observation realtime_start=\"2024-03-15\" realtime_end=\"2024-03-15\" date=\"2021-01-04\" value=\"2.64\"/>\\n  <observation realtime_start=\"2024-03-15\" realtime_end=\"2024-03-15\" date=\"2021-01-11\" value=\"2.67\"/>\\n  <observation realtime_start=\"2024-03-15\" realtime_end=\"2024-03-15\" date=\"2021-01-18\" value=\"2.696\"/>\\n  <observation realtime_start=\"2024-03-15\" realtime_end=\"2024-03-15\" date=\"2021-01-25\" value=\"2.716\"/>\\n  <observation realtime_start=\"2024-03-15\" realtime_end=\"2024-03-15\" date=\"2021-02-01\" value=\"2.738\"/>\\n  <observation realtime_start=\"2024-03-15\" realtime_end=\"2024-03-15\" date=\"2021-02-08\" value=\"2.801\"/>\\n  <observation realtime_start=\"2024-03-15\" realtime_end=\"2024-03-15\" date=\"2021-02-15\" value=\"2.876\"/>\\n  <observation realtime_start=\"2024-03-15\" realtime_end=\"2024-03-15\" date=\"2021-02-22\" value=\"2.973\"/>\\n  <observation realtime_start=\"2024-03-15\" realtime_end=\"2024-03-15\" date=\"2021-03-01\" value=\"3.072\"/>\\n  <observation realtime_start=\"2024-03-15\" realtime_end=\"2024-03-15\" date=\"2021-03-08\" value=\"3.143\"/>\\n  <observation realtime_start=\"2024-03-15\" realtime_end=\"2024-03-15\" date=\"2021-03-15\" value=\"3.191\"/>\\n  <observation realtime_start=\"2024-03-15\" realtime_end=\"2024-03-15\" date=\"2021-03-22\" value=\"3.194\"/>\\n  <observation realtime_start=\"2024-03-15\" realtime_end=\"2024-03-15\" date=\"2021-03-29\" value=\"3.161\"/>\\n  <observation realtime_start=\"2024-03-15\" realtime_end=\"2024-03-15\" date=\"2021-04-05\" value=\"3.144\"/>\\n  <observation realtime_start=\"2024-03-15\" realtime_end=\"2024-03-15\" date=\"2021-04-12\" value=\"3.129\"/>\\n  <observation realtime_start=\"2024-03-15\" realtime_end=\"2024-03-15\" date=\"2021-04-19\" value=\"3.124\"/>\\n  <observation realtime_start=\"2024-03-15\" realtime_end=\"2024-03-15\" date=\"2021-04-26\" value=\"3.124\"/>\\n  <observation realtime_start=\"2024-03-15\" realtime_end=\"2024-03-15\" date=\"2021-05-03\" value=\"3.142\"/>\\n  <observation realtime_start=\"2024-03-15\" realtime_end=\"2024-03-15\" date=\"2021-05-10\" value=\"3.186\"/>\\n  <observation realtime_start=\"2024-03-15\" realtime_end=\"2024-03-15\" date=\"2021-05-17\" value=\"3.249\"/>\\n  <observation realtime_start=\"2024-03-15\" realtime_end=\"2024-03-15\" date=\"2021-05-24\" value=\"3.253\"/>\\n  <observation realtime_start=\"2024-03-15\" realtime_end=\"2024-03-15\" date=\"2021-05-31\" value=\"3.255\"/>\\n  <observation realtime_start=\"2024-03-15\" realtime_end=\"2024-03-15\" date=\"2021-06-07\" value=\"3.274\"/>\\n  <observation realtime_start=\"2024-03-15\" realtime_end=\"2024-03-15\" date=\"2021-06-14\" value=\"3.286\"/>\\n  <observation realtime_start=\"2024-03-15\" realtime_end=\"2024-03-15\" date=\"2021-06-21\" value=\"3.287\"/>\\n  <observation realtime_start=\"2024-03-15\" realtime_end=\"2024-03-15\" date=\"2021-06-28\" value=\"3.3\"/>\\n  <observation realtime_start=\"2024-03-15\" realtime_end=\"2024-03-15\" date=\"2021-07-05\" value=\"3.331\"/>\\n  <observation realtime_start=\"2024-03-15\" realtime_end=\"2024-03-15\" date=\"2021-07-12\" value=\"3.338\"/>\\n  <observation realtime_start=\"2024-03-15\" realtime_end=\"2024-03-15\" date=\"2021-07-19\" value=\"3.344\"/>\\n  <observation realtime_start=\"2024-03-15\" realtime_end=\"2024-03-15\" date=\"2021-07-26\" value=\"3.342\"/>\\n  <observation realtime_start=\"2024-03-15\" realtime_end=\"2024-03-15\" date=\"2021-08-02\" value=\"3.367\"/>\\n  <observation realtime_start=\"2024-03-15\" realtime_end=\"2024-03-15\" date=\"2021-08-09\" value=\"3.364\"/>\\n  <observation realtime_start=\"2024-03-15\" realtime_end=\"2024-03-15\" date=\"2021-08-16\" value=\"3.356\"/>\\n  <observation realtime_start=\"2024-03-15\" realtime_end=\"2024-03-15\" date=\"2021-08-23\" value=\"3.324\"/>\\n  <observation realtime_start=\"2024-03-15\" realtime_end=\"2024-03-15\" date=\"2021-08-30\" value=\"3.339\"/>\\n  <observation realtime_start=\"2024-03-15\" realtime_end=\"2024-03-15\" date=\"2021-09-06\" value=\"3.373\"/>\\n  <observation realtime_start=\"2024-03-15\" realtime_end=\"2024-03-15\" date=\"2021-09-13\" value=\"3.372\"/>\\n  <observation realtime_start=\"2024-03-15\" realtime_end=\"2024-03-15\" date=\"2021-09-20\" value=\"3.385\"/>\\n  <observation realtime_start=\"2024-03-15\" realtime_end=\"2024-03-15\" date=\"2021-09-27\" value=\"3.406\"/>\\n  <observation realtime_start=\"2024-03-15\" realtime_end=\"2024-03-15\" date=\"2021-10-04\" value=\"3.477\"/>\\n  <observation realtime_start=\"2024-03-15\" realtime_end=\"2024-03-15\" date=\"2021-10-11\" value=\"3.586\"/>\\n  <observation realtime_start=\"2024-03-15\" realtime_end=\"2024-03-15\" date=\"2021-10-18\" value=\"3.671\"/>\\n  <observation realtime_start=\"2024-03-15\" realtime_end=\"2024-03-15\" date=\"2021-10-25\" value=\"3.713\"/>\\n  <observation realtime_start=\"2024-03-15\" realtime_end=\"2024-03-15\" date=\"2021-11-01\" value=\"3.727\"/>\\n  <observation realtime_start=\"2024-03-15\" realtime_end=\"2024-03-15\" date=\"2021-11-08\" value=\"3.73\"/>\\n  <observation realtime_start=\"2024-03-15\" realtime_end=\"2024-03-15\" date=\"2021-11-15\" value=\"3.734\"/>\\n  <observation realtime_start=\"2024-03-15\" realtime_end=\"2024-03-15\" date=\"2021-11-22\" value=\"3.724\"/>\\n  <observation realtime_start=\"2024-03-15\" realtime_end=\"2024-03-15\" date=\"2021-11-29\" value=\"3.72\"/>\\n  <observation realtime_start=\"2024-03-15\" realtime_end=\"2024-03-15\" date=\"2021-12-06\" value=\"3.674\"/>\\n  <observation realtime_start=\"2024-03-15\" realtime_end=\"2024-03-15\" date=\"2021-12-13\" value=\"3.649\"/>\\n  <observation realtime_start=\"2024-03-15\" realtime_end=\"2024-03-15\" date=\"2021-12-20\" value=\"3.626\"/>\\n  <observation realtime_start=\"2024-03-15\" realtime_end=\"2024-03-15\" date=\"2021-12-27\" value=\"3.615\"/>\\n  <observation realtime_start=\"2024-03-15\" realtime_end=\"2024-03-15\" date=\"2022-01-03\" value=\"3.613\"/>\\n  <observation realtime_start=\"2024-03-15\" realtime_end=\"2024-03-15\" date=\"2022-01-10\" value=\"3.657\"/>\\n  <observation realtime_start=\"2024-03-15\" realtime_end=\"2024-03-15\" date=\"2022-01-17\" value=\"3.725\"/>\\n  <observation realtime_start=\"2024-03-15\" realtime_end=\"2024-03-15\" date=\"2022-01-24\" value=\"3.78\"/>\\n  <observation realtime_start=\"2024-03-15\" realtime_end=\"2024-03-15\" date=\"2022-01-31\" value=\"3.846\"/>\\n  <observation realtime_start=\"2024-03-15\" realtime_end=\"2024-03-15\" date=\"2022-02-07\" value=\"3.951\"/>\\n  <observation realtime_start=\"2024-03-15\" realtime_end=\"2024-03-15\" date=\"2022-02-14\" value=\"4.019\"/>\\n  <observation realtime_start=\"2024-03-15\" realtime_end=\"2024-03-15\" date=\"2022-02-21\" value=\"4.055\"/>\\n  <observation realtime_start=\"2024-03-15\" realtime_end=\"2024-03-15\" date=\"2022-02-28\" value=\"4.104\"/>\\n  <observation realtime_start=\"2024-03-15\" realtime_end=\"2024-03-15\" date=\"2022-03-07\" value=\"4.849\"/>\\n  <observation realtime_start=\"2024-03-15\" realtime_end=\"2024-03-15\" date=\"2022-03-14\" value=\"5.25\"/>\\n  <observation realtime_start=\"2024-03-15\" realtime_end=\"2024-03-15\" date=\"2022-03-21\" value=\"5.134\"/>\\n  <observation realtime_start=\"2024-03-15\" realtime_end=\"2024-03-15\" date=\"2022-03-28\" value=\"5.185\"/>\\n  <observation realtime_start=\"2024-03-15\" realtime_end=\"2024-03-15\" date=\"2022-04-04\" value=\"5.144\"/>\\n  <observation realtime_start=\"2024-03-15\" realtime_end=\"2024-03-15\" date=\"2022-04-11\" value=\"5.073\"/>\\n  <observation realtime_start=\"2024-03-15\" realtime_end=\"2024-03-15\" date=\"2022-04-18\" value=\"5.101\"/>\\n  <observation realtime_start=\"2024-03-15\" realtime_end=\"2024-03-15\" date=\"2022-04-25\" value=\"5.16\"/>\\n  <observation realtime_start=\"2024-03-15\" realtime_end=\"2024-03-15\" date=\"2022-05-02\" value=\"5.509\"/>\\n  <observation realtime_start=\"2024-03-15\" realtime_end=\"2024-03-15\" date=\"2022-05-09\" value=\"5.623\"/>\\n  <observation realtime_start=\"2024-03-15\" realtime_end=\"2024-03-15\" date=\"2022-05-16\" value=\"5.613\"/>\\n  <observation realtime_start=\"2024-03-15\" realtime_end=\"2024-03-15\" date=\"2022-05-23\" value=\"5.571\"/>\\n  <observation realtime_start=\"2024-03-15\" realtime_end=\"2024-03-15\" date=\"2022-05-30\" value=\"5.539\"/>\\n  <observation realtime_start=\"2024-03-15\" realtime_end=\"2024-03-15\" date=\"2022-06-06\" value=\"5.703\"/>\\n  <observation realtime_start=\"2024-03-15\" realtime_end=\"2024-03-15\" date=\"2022-06-13\" value=\"5.718\"/>\\n  <observation realtime_start=\"2024-03-15\" realtime_end=\"2024-03-15\" date=\"2022-06-20\" value=\"5.81\"/>\\n  <observation realtime_start=\"2024-03-15\" realtime_end=\"2024-03-15\" date=\"2022-06-27\" value=\"5.783\"/>\\n  <observation realtime_start=\"2024-03-15\" realtime_end=\"2024-03-15\" date=\"2022-07-04\" value=\"5.675\"/>\\n  <observation realtime_start=\"2024-03-15\" realtime_end=\"2024-03-15\" date=\"2022-07-11\" value=\"5.568\"/>\\n  <observation realtime_start=\"2024-03-15\" realtime_end=\"2024-03-15\" date=\"2022-07-18\" value=\"5.432\"/>\\n  <observation realtime_start=\"2024-03-15\" realtime_end=\"2024-03-15\" date=\"2022-07-25\" value=\"5.268\"/>\\n  <observation realtime_start=\"2024-03-15\" realtime_end=\"2024-03-15\" date=\"2022-08-01\" value=\"5.138\"/>\\n  <observation realtime_start=\"2024-03-15\" realtime_end=\"2024-03-15\" date=\"2022-08-08\" value=\"4.993\"/>\\n  <observation realtime_start=\"2024-03-15\" realtime_end=\"2024-03-15\" date=\"2022-08-15\" value=\"4.911\"/>\\n  <observation realtime_start=\"2024-03-15\" realtime_end=\"2024-03-15\" date=\"2022-08-22\" value=\"4.909\"/>\\n  <observation realtime_start=\"2024-03-15\" realtime_end=\"2024-03-15\" date=\"2022-08-29\" value=\"5.115\"/>\\n  <observation realtime_start=\"2024-03-15\" realtime_end=\"2024-03-15\" date=\"2022-09-05\" value=\"5.084\"/>\\n  <observation realtime_start=\"2024-03-15\" realtime_end=\"2024-03-15\" date=\"2022-09-12\" value=\"5.033\"/>\\n  <observation realtime_start=\"2024-03-15\" realtime_end=\"2024-03-15\" date=\"2022-09-19\" value=\"4.964\"/>\\n  <observation realtime_start=\"2024-03-15\" realtime_end=\"2024-03-15\" date=\"2022-09-26\" value=\"4.889\"/>\\n  <observation realtime_start=\"2024-03-15\" realtime_end=\"2024-03-15\" date=\"2022-10-03\" value=\"4.836\"/>\\n  <observation realtime_start=\"2024-03-15\" realtime_end=\"2024-03-15\" date=\"2022-10-10\" value=\"5.224\"/>\\n  <observation realtime_start=\"2024-03-15\" realtime_end=\"2024-03-15\" date=\"2022-10-17\" value=\"5.339\"/>\\n  <observation realtime_start=\"2024-03-15\" realtime_end=\"2024-03-15\" date=\"2022-10-24\" value=\"5.341\"/>\\n  <observation realtime_start=\"2024-03-15\" realtime_end=\"2024-03-15\" date=\"2022-10-31\" value=\"5.317\"/>\\n  <observation realtime_start=\"2024-03-15\" realtime_end=\"2024-03-15\" date=\"2022-11-07\" value=\"5.333\"/>\\n  <observation realtime_start=\"2024-03-15\" realtime_end=\"2024-03-15\" date=\"2022-11-14\" value=\"5.313\"/>\\n  <observation realtime_start=\"2024-03-15\" realtime_end=\"2024-03-15\" date=\"2022-11-21\" value=\"5.233\"/>\\n  <observation realtime_start=\"2024-03-15\" realtime_end=\"2024-03-15\" date=\"2022-11-28\" value=\"5.141\"/>\\n  <observation realtime_start=\"2024-03-15\" realtime_end=\"2024-03-15\" date=\"2022-12-05\" value=\"4.967\"/>\\n  <observation realtime_start=\"2024-03-15\" realtime_end=\"2024-03-15\" date=\"2022-12-12\" value=\"4.754\"/>\\n  <observation realtime_start=\"2024-03-15\" realtime_end=\"2024-03-15\" date=\"2022-12-19\" value=\"4.596\"/>\\n  <observation realtime_start=\"2024-03-15\" realtime_end=\"2024-03-15\" date=\"2022-12-26\" value=\"4.537\"/>\\n  <observation realtime_start=\"2024-03-15\" realtime_end=\"2024-03-15\" date=\"2023-01-02\" value=\"4.583\"/>\\n  <observation realtime_start=\"2024-03-15\" realtime_end=\"2024-03-15\" date=\"2023-01-09\" value=\"4.549\"/>\\n  <observation realtime_start=\"2024-03-15\" realtime_end=\"2024-03-15\" date=\"2023-01-16\" value=\"4.524\"/>\\n  <observation realtime_start=\"2024-03-15\" realtime_end=\"2024-03-15\" date=\"2023-01-23\" value=\"4.604\"/>\\n  <observation realtime_start=\"2024-03-15\" realtime_end=\"2024-03-15\" date=\"2023-01-30\" value=\"4.622\"/>\\n  <observation realtime_start=\"2024-03-15\" realtime_end=\"2024-03-15\" date=\"2023-02-06\" value=\"4.539\"/>\\n  <observation realtime_start=\"2024-03-15\" realtime_end=\"2024-03-15\" date=\"2023-02-13\" value=\"4.444\"/>\\n  <observation realtime_start=\"2024-03-15\" realtime_end=\"2024-03-15\" date=\"2023-02-20\" value=\"4.376\"/>\\n  <observation realtime_start=\"2024-03-15\" realtime_end=\"2024-03-15\" date=\"2023-02-27\" value=\"4.294\"/>\\n  <observation realtime_start=\"2024-03-15\" realtime_end=\"2024-03-15\" date=\"2023-03-06\" value=\"4.282\"/>\\n  <observation realtime_start=\"2024-03-15\" realtime_end=\"2024-03-15\" date=\"2023-03-13\" value=\"4.247\"/>\\n  <observation realtime_start=\"2024-03-15\" realtime_end=\"2024-03-15\" date=\"2023-03-20\" value=\"4.185\"/>\\n  <observation realtime_start=\"2024-03-15\" realtime_end=\"2024-03-15\" date=\"2023-03-27\" value=\"4.128\"/>\\n  <observation realtime_start=\"2024-03-15\" realtime_end=\"2024-03-15\" date=\"2023-04-03\" value=\"4.105\"/>\\n  <observation realtime_start=\"2024-03-15\" realtime_end=\"2024-03-15\" date=\"2023-04-10\" value=\"4.098\"/>\\n  <observation realtime_start=\"2024-03-15\" realtime_end=\"2024-03-15\" date=\"2023-04-17\" value=\"4.116\"/>\\n  <observation realtime_start=\"2024-03-15\" realtime_end=\"2024-03-15\" date=\"2023-04-24\" value=\"4.077\"/>\\n  <observation realtime_start=\"2024-03-15\" realtime_end=\"2024-03-15\" date=\"2023-05-01\" value=\"4.018\"/>\\n  <observation realtime_start=\"2024-03-15\" realtime_end=\"2024-03-15\" date=\"2023-05-08\" value=\"3.922\"/>\\n  <observation realtime_start=\"2024-03-15\" realtime_end=\"2024-03-15\" date=\"2023-05-15\" value=\"3.897\"/>\\n  <observation realtime_start=\"2024-03-15\" realtime_end=\"2024-03-15\" date=\"2023-05-22\" value=\"3.883\"/>\\n  <observation realtime_start=\"2024-03-15\" realtime_end=\"2024-03-15\" date=\"2023-05-29\" value=\"3.855\"/>\\n  <observation realtime_start=\"2024-03-15\" realtime_end=\"2024-03-15\" date=\"2023-06-05\" value=\"3.797\"/>\\n  <observation realtime_start=\"2024-03-15\" realtime_end=\"2024-03-15\" date=\"2023-06-12\" value=\"3.794\"/>\\n  <observation realtime_start=\"2024-03-15\" realtime_end=\"2024-03-15\" date=\"2023-06-19\" value=\"3.815\"/>\\n  <observation realtime_start=\"2024-03-15\" realtime_end=\"2024-03-15\" date=\"2023-06-26\" value=\"3.801\"/>\\n  <observation realtime_start=\"2024-03-15\" realtime_end=\"2024-03-15\" date=\"2023-07-03\" value=\"3.767\"/>\\n  <observation realtime_start=\"2024-03-15\" realtime_end=\"2024-03-15\" date=\"2023-07-10\" value=\"3.806\"/>\\n  <observation realtime_start=\"2024-03-15\" realtime_end=\"2024-03-15\" date=\"2023-07-17\" value=\"3.806\"/>\\n  <observation realtime_start=\"2024-03-15\" realtime_end=\"2024-03-15\" date=\"2023-07-24\" value=\"3.905\"/>\\n  <observation realtime_start=\"2024-03-15\" realtime_end=\"2024-03-15\" date=\"2023-07-31\" value=\"4.127\"/>\\n  <observation realtime_start=\"2024-03-15\" realtime_end=\"2024-03-15\" date=\"2023-08-07\" value=\"4.239\"/>\\n  <observation realtime_start=\"2024-03-15\" realtime_end=\"2024-03-15\" date=\"2023-08-14\" value=\"4.378\"/>\\n  <observation realtime_start=\"2024-03-15\" realtime_end=\"2024-03-15\" date=\"2023-08-21\" value=\"4.389\"/>\\n  <observation realtime_start=\"2024-03-15\" realtime_end=\"2024-03-15\" date=\"2023-08-28\" value=\"4.475\"/>\\n  <observation realtime_start=\"2024-03-15\" realtime_end=\"2024-03-15\" date=\"2023-09-04\" value=\"4.492\"/>\\n  <observation realtime_start=\"2024-03-15\" realtime_end=\"2024-03-15\" date=\"2023-09-11\" value=\"4.54\"/>\\n  <observation realtime_start=\"2024-03-15\" realtime_end=\"2024-03-15\" date=\"2023-09-18\" value=\"4.633\"/>\\n  <observation realtime_start=\"2024-03-15\" realtime_end=\"2024-03-15\" date=\"2023-09-25\" value=\"4.586\"/>\\n  <observation realtime_start=\"2024-03-15\" realtime_end=\"2024-03-15\" date=\"2023-10-02\" value=\"4.593\"/>\\n  <observation realtime_start=\"2024-03-15\" realtime_end=\"2024-03-15\" date=\"2023-10-09\" value=\"4.498\"/>\\n  <observation realtime_start=\"2024-03-15\" realtime_end=\"2024-03-15\" date=\"2023-10-16\" value=\"4.444\"/>\\n  <observation realtime_start=\"2024-03-15\" realtime_end=\"2024-03-15\" date=\"2023-10-23\" value=\"4.545\"/>\\n  <observation realtime_start=\"2024-03-15\" realtime_end=\"2024-03-15\" date=\"2023-10-30\" value=\"4.454\"/>\\n  <observation realtime_start=\"2024-03-15\" realtime_end=\"2024-03-15\" date=\"2023-11-06\" value=\"4.366\"/>\\n  <observation realtime_start=\"2024-03-15\" realtime_end=\"2024-03-15\" date=\"2023-11-13\" value=\"4.294\"/>\\n  <observation realtime_start=\"2024-03-15\" realtime_end=\"2024-03-15\" date=\"2023-11-20\" value=\"4.209\"/>\\n  <observation realtime_start=\"2024-03-15\" realtime_end=\"2024-03-15\" date=\"2023-11-27\" value=\"4.146\"/>\\n  <observation realtime_start=\"2024-03-15\" realtime_end=\"2024-03-15\" date=\"2023-12-04\" value=\"4.092\"/>\\n  <observation realtime_start=\"2024-03-15\" realtime_end=\"2024-03-15\" date=\"2023-12-11\" value=\"3.987\"/>\\n  <observation realtime_start=\"2024-03-15\" realtime_end=\"2024-03-15\" date=\"2023-12-18\" value=\"3.894\"/>\\n  <observation realtime_start=\"2024-03-15\" realtime_end=\"2024-03-15\" date=\"2023-12-25\" value=\"3.914\"/>\\n  <observation realtime_start=\"2024-03-15\" realtime_end=\"2024-03-15\" date=\"2024-01-01\" value=\"3.876\"/>\\n  <observation realtime_start=\"2024-03-15\" realtime_end=\"2024-03-15\" date=\"2024-01-08\" value=\"3.828\"/>\\n  <observation realtime_start=\"2024-03-15\" realtime_end=\"2024-03-15\" date=\"2024-01-15\" value=\"3.863\"/>\\n  <observation realtime_start=\"2024-03-15\" realtime_end=\"2024-03-15\" date=\"2024-01-22\" value=\"3.838\"/>\\n  <observation realtime_start=\"2024-03-15\" realtime_end=\"2024-03-15\" date=\"2024-01-29\" value=\"3.867\"/>\\n  <observation realtime_start=\"2024-03-15\" realtime_end=\"2024-03-15\" date=\"2024-02-05\" value=\"3.899\"/>\\n  <observation realtime_start=\"2024-03-15\" realtime_end=\"2024-03-15\" date=\"2024-02-12\" value=\"4.109\"/>\\n  <observation realtime_start=\"2024-03-15\" realtime_end=\"2024-03-15\" date=\"2024-02-19\" value=\"4.109\"/>\\n  <observation realtime_start=\"2024-03-15\" realtime_end=\"2024-03-15\" date=\"2024-02-26\" value=\"4.058\"/>\\n  <observation realtime_start=\"2024-03-15\" realtime_end=\"2024-03-15\" date=\"2024-03-04\" value=\"4.022\"/>\\n  <observation realtime_start=\"2024-03-15\" realtime_end=\"2024-03-15\" date=\"2024-03-11\" value=\"4.004\"/>\\n</observations>\\n\\n\\n\\n'"
      ]
     },
     "execution_count": 42,
     "metadata": {},
     "output_type": "execute_result"
    }
   ],
   "source": [
    "# Check the content of the response\n",
    "response.text\n",
    "response.content\n",
    "\n",
    "# See data format\n",
    "response.headers\n",
    "\n",
    "# As it is xml, convert with pandas function\n",
    "df = pd.read_xml(response.text)\n",
    "df.head()"
   ]
  },
  {
   "cell_type": "code",
   "execution_count": 48,
   "metadata": {},
   "outputs": [
    {
     "data": {
      "text/html": [
       "<div>\n",
       "<style scoped>\n",
       "    .dataframe tbody tr th:only-of-type {\n",
       "        vertical-align: middle;\n",
       "    }\n",
       "\n",
       "    .dataframe tbody tr th {\n",
       "        vertical-align: top;\n",
       "    }\n",
       "\n",
       "    .dataframe thead th {\n",
       "        text-align: right;\n",
       "    }\n",
       "</style>\n",
       "<table border=\"1\" class=\"dataframe\">\n",
       "  <thead>\n",
       "    <tr style=\"text-align: right;\">\n",
       "      <th></th>\n",
       "      <th>realtime_start</th>\n",
       "      <th>realtime_end</th>\n",
       "      <th>date</th>\n",
       "      <th>value</th>\n",
       "      <th>variable</th>\n",
       "    </tr>\n",
       "  </thead>\n",
       "  <tbody>\n",
       "    <tr>\n",
       "      <th>0</th>\n",
       "      <td>2024-03-15</td>\n",
       "      <td>2024-03-15</td>\n",
       "      <td>2020-01-06</td>\n",
       "      <td>3.08</td>\n",
       "      <td>US Diesel Sales Price, Dol/Gal, NSA, Weekly</td>\n",
       "    </tr>\n",
       "    <tr>\n",
       "      <th>1</th>\n",
       "      <td>2024-03-15</td>\n",
       "      <td>2024-03-15</td>\n",
       "      <td>2020-01-13</td>\n",
       "      <td>3.06</td>\n",
       "      <td>US Diesel Sales Price, Dol/Gal, NSA, Weekly</td>\n",
       "    </tr>\n",
       "    <tr>\n",
       "      <th>2</th>\n",
       "      <td>2024-03-15</td>\n",
       "      <td>2024-03-15</td>\n",
       "      <td>2020-01-20</td>\n",
       "      <td>3.04</td>\n",
       "      <td>US Diesel Sales Price, Dol/Gal, NSA, Weekly</td>\n",
       "    </tr>\n",
       "    <tr>\n",
       "      <th>3</th>\n",
       "      <td>2024-03-15</td>\n",
       "      <td>2024-03-15</td>\n",
       "      <td>2020-01-27</td>\n",
       "      <td>3.01</td>\n",
       "      <td>US Diesel Sales Price, Dol/Gal, NSA, Weekly</td>\n",
       "    </tr>\n",
       "    <tr>\n",
       "      <th>4</th>\n",
       "      <td>2024-03-15</td>\n",
       "      <td>2024-03-15</td>\n",
       "      <td>2020-02-03</td>\n",
       "      <td>2.96</td>\n",
       "      <td>US Diesel Sales Price, Dol/Gal, NSA, Weekly</td>\n",
       "    </tr>\n",
       "  </tbody>\n",
       "</table>\n",
       "</div>"
      ],
      "text/plain": [
       "  realtime_start realtime_end        date  value  \\\n",
       "0     2024-03-15   2024-03-15  2020-01-06   3.08   \n",
       "1     2024-03-15   2024-03-15  2020-01-13   3.06   \n",
       "2     2024-03-15   2024-03-15  2020-01-20   3.04   \n",
       "3     2024-03-15   2024-03-15  2020-01-27   3.01   \n",
       "4     2024-03-15   2024-03-15  2020-02-03   2.96   \n",
       "\n",
       "                                      variable  \n",
       "0  US Diesel Sales Price, Dol/Gal, NSA, Weekly  \n",
       "1  US Diesel Sales Price, Dol/Gal, NSA, Weekly  \n",
       "2  US Diesel Sales Price, Dol/Gal, NSA, Weekly  \n",
       "3  US Diesel Sales Price, Dol/Gal, NSA, Weekly  \n",
       "4  US Diesel Sales Price, Dol/Gal, NSA, Weekly  "
      ]
     },
     "execution_count": 48,
     "metadata": {},
     "output_type": "execute_result"
    }
   ],
   "source": [
    "df['variable'] = desc_code\n",
    "df.head()"
   ]
  },
  {
   "cell_type": "code",
   "execution_count": 49,
   "metadata": {},
   "outputs": [],
   "source": [
    "df.to_excel('fred.xlsx')"
   ]
  }
 ],
 "metadata": {
  "kernelspec": {
   "display_name": "Python 3",
   "language": "python",
   "name": "python3"
  },
  "language_info": {
   "codemirror_mode": {
    "name": "ipython",
    "version": 3
   },
   "file_extension": ".py",
   "mimetype": "text/x-python",
   "name": "python",
   "nbconvert_exporter": "python",
   "pygments_lexer": "ipython3",
   "version": "3.11.4"
  },
  "orig_nbformat": 4
 },
 "nbformat": 4,
 "nbformat_minor": 2
}
